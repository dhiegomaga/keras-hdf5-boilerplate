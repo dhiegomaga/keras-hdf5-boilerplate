{
 "cells": [
  {
   "cell_type": "code",
   "execution_count": 1,
   "metadata": {},
   "outputs": [],
   "source": [
    "# Prepare data and save it as hdf5 file to be trained on"
   ]
  },
  {
   "cell_type": "code",
   "execution_count": 2,
   "metadata": {},
   "outputs": [],
   "source": [
    "from glob import glob\n",
    "from random import shuffle\n",
    "import cv2\n",
    "import numpy as np\n",
    "import h5py"
   ]
  },
  {
   "cell_type": "code",
   "execution_count": 3,
   "metadata": {},
   "outputs": [],
   "source": [
    "DATADIR = \"Dataset/\"\n",
    "DATA_FILE = 'dataset.h5'\n",
    "IMG_SIZE = 400\n",
    "IMG_CHANNELS=3\n",
    "TRAIN_TEST_RATIO = 0.2"
   ]
  },
  {
   "cell_type": "code",
   "execution_count": 4,
   "metadata": {},
   "outputs": [
    {
     "name": "stdout",
     "output_type": "stream",
     "text": [
      "['Dataset/consul/', 'Dataset/nestlé/', 'Dataset/brastemp/', 'Dataset/pampers/', 'Dataset/pantene/', 'Dataset/dell/', 'Dataset/gillette/']\n"
     ]
    }
   ],
   "source": [
    "# Grab folder names\n",
    "\n",
    "labels = glob(DATADIR+'*/')\n",
    "print(labels)"
   ]
  },
  {
   "cell_type": "code",
   "execution_count": 5,
   "metadata": {},
   "outputs": [],
   "source": [
    "# addrs : list of tuples (img_addr, label)\n",
    "\n",
    "addrs = []\n",
    "\n",
    "for (index, path) in enumerate(labels):\n",
    "    img_addrs = glob(path+\"*\")\n",
    "    for img_addr in img_addrs:\n",
    "        addrs.append((img_addr, index))\n",
    "        \n",
    "shuffle(addrs)"
   ]
  },
  {
   "cell_type": "code",
   "execution_count": 6,
   "metadata": {},
   "outputs": [],
   "source": [
    "# Test and train addrs\n",
    "\n",
    "division = int(len(addrs) * TRAIN_TEST_RATIO)\n",
    "train_addrs = addrs[division:]\n",
    "test_addrs = addrs[0:division]"
   ]
  },
  {
   "cell_type": "code",
   "execution_count": 7,
   "metadata": {},
   "outputs": [
    {
     "data": {
      "text/plain": [
       "<HDF5 dataset \"y_test\": shape (427,), type \"|u1\">"
      ]
     },
     "execution_count": 7,
     "metadata": {},
     "output_type": "execute_result"
    }
   ],
   "source": [
    "# Create hdf5 file\n",
    "\n",
    "train_shape = (len(train_addrs), IMG_SIZE, IMG_SIZE, IMG_CHANNELS)\n",
    "test_shape = (len(test_addrs), IMG_SIZE, IMG_SIZE, IMG_CHANNELS)\n",
    "\n",
    "hdf5_file = h5py.File(DATA_FILE, mode='w')\n",
    "hdf5_file.create_dataset('x_train', train_shape, np.uint8, compression=\"gzip\")\n",
    "hdf5_file.create_dataset('x_test', test_shape, np.uint8, compression=\"gzip\")\n",
    "hdf5_file.create_dataset('y_train', (len(train_addrs),), np.uint8 )\n",
    "hdf5_file.create_dataset('y_test', (len(test_addrs),), np.uint8 )"
   ]
  },
  {
   "cell_type": "code",
   "execution_count": 8,
   "metadata": {
    "scrolled": true
   },
   "outputs": [
    {
     "name": "stdout",
     "output_type": "stream",
     "text": [
      "Train: Done 200 of 1711\n",
      "Train: Done 400 of 1711\n",
      "Train: Done 600 of 1711\n",
      "Train: Done 800 of 1711\n",
      "Train: Done 1000 of 1711\n",
      "Train: Done 1200 of 1711\n",
      "Train: Done 1400 of 1711\n",
      "Train: Done 1600 of 1711\n",
      "Test: Done 200 of 427\n",
      "Test: Done 400 of 427\n"
     ]
    }
   ],
   "source": [
    "# Read images and save them\n",
    "\n",
    "# Train images\n",
    "for i in range(len(train_addrs)):\n",
    "    if i%200 == 0 and i > 1 :\n",
    "        print(f\"Train: Done {i} of {len(train_addrs)}\")\n",
    "    \n",
    "    addr = train_addrs[i][0]\n",
    "    label = train_addrs[i][1]\n",
    "    img = cv2.imread(addr)\n",
    "    img = cv2.resize(img, (IMG_SIZE, IMG_SIZE), interpolation=cv2.INTER_CUBIC )\n",
    "    img = cv2.cvtColor(img, cv2.COLOR_BGR2RGB)\n",
    "    \n",
    "    hdf5_file['x_train'][i, ...] = img\n",
    "    hdf5_file['y_train'][i] = label\n",
    "    \n",
    "# Test images\n",
    "for i in range(len(test_addrs)):\n",
    "    if i%200 == 0 and i > 1 :\n",
    "        print(f\"Test: Done {i} of {len(test_addrs)}\")\n",
    "    \n",
    "    addr = test_addrs[i][0]\n",
    "    label = test_addrs[i][1]\n",
    "    img = cv2.imread(addr)\n",
    "    img = cv2.resize(img, (IMG_SIZE, IMG_SIZE), interpolation=cv2.INTER_CUBIC )\n",
    "    img = cv2.cvtColor(img, cv2.COLOR_BGR2RGB)\n",
    "    \n",
    "    hdf5_file['x_test'][i, ...] = img\n",
    "    hdf5_file['y_test'][i] = label\n",
    "    \n",
    "hdf5_file.close()"
   ]
  },
  {
   "cell_type": "code",
   "execution_count": null,
   "metadata": {},
   "outputs": [],
   "source": []
  },
  {
   "cell_type": "code",
   "execution_count": null,
   "metadata": {},
   "outputs": [],
   "source": []
  },
  {
   "cell_type": "code",
   "execution_count": null,
   "metadata": {},
   "outputs": [],
   "source": [
    "\n",
    "\n",
    "\n",
    "\n",
    "\n",
    "\n",
    "\n",
    "\n",
    "\n",
    "\n",
    "\n",
    "\n",
    "\n",
    "\n",
    "\n",
    "\n",
    "\n",
    "\n",
    "\n",
    "\n",
    "\n",
    "\n",
    "\n",
    "\n",
    "\n",
    "\n",
    "\n",
    "\n",
    "\n",
    "\n",
    "\n",
    "\n",
    "\n",
    "\n",
    "\n",
    "\n",
    "\n",
    "\n",
    "\n"
   ]
  }
 ],
 "metadata": {
  "kernelspec": {
   "display_name": "Python 3",
   "language": "python",
   "name": "python3"
  },
  "language_info": {
   "codemirror_mode": {
    "name": "ipython",
    "version": 3
   },
   "file_extension": ".py",
   "mimetype": "text/x-python",
   "name": "python",
   "nbconvert_exporter": "python",
   "pygments_lexer": "ipython3",
   "version": "3.6.9"
  }
 },
 "nbformat": 4,
 "nbformat_minor": 2
}
